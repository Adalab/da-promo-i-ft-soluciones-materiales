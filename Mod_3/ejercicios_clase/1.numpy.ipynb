{
 "cells": [
  {
   "cell_type": "markdown",
   "metadata": {},
   "source": [
    "# Numpy\n",
    "\n",
    "- array:\n",
    "    - es un conjunto de datos de la librería numpy\n",
    "    - nos recuerda a una lista\n",
    "    - sólo permite 1 tipo de dato: int, float, bool, str,...\n",
    "    - dimensiones: puede tener hasta n dimensiones. Lo normal es encontrarnos con hasta 3 dimensiones y para nosotras lo más usado son unidimensionales y bidimensionales\n",
    "\n",
    "- características del array: **van sin paréntesis**\n",
    "    - .shape --> nos devuelve la forma de array en forma de tupla\n",
    "        - primer elemento son las matrices\n",
    "        - segundo las filas\n",
    "        - tercero las columnas\n",
    "    - .size --> número de elementos \n",
    "    - .ndim --> número de dimensiones\n",
    "    - .dtype --> tipo de dato del array\n",
    "\n",
    "- creación de arrays:\n",
    "    - np.array() --> para convertir listas en arrays\n",
    "    - np.arange() --> nos permite crear arrys de una dimensión y de forma secuencial\n",
    "    - np.empty() --> ojo, realmente no nos lo devuelve vacío, pone números que tiene almacenados en la memoria\n",
    "    - np.zeros() --> nos crea arrays de ceros o False si ponemos el tipo de dato como bool\n",
    "    - np.ones() --> \n",
    "    - np.random.randint() --> num enteros\n",
    "    - np.random.rand --> \n",
    "    - np.random.random_sample --> \n",
    "**Nota sobre notación científica:**\n",
    "    Se usa para poder expresar valores muy grandes o muy pequeños. Si el número tiene el formato e-5 quiere decir que tenemos que mover la coma hacia la izquierda 5 posiciones.\n",
    "    Por ejemplo: 3.25149616e-01 es igual a 0.325149616\n",
    "\n",
    "- Operaciones: ojo al hacer operaciones con arrays de distintas dimensiones\n",
    "    - sumar --> + / np.add()\n",
    "    - restar --> \n",
    "\n",
    "- Indexación:\n",
    "\n",
    "- Filtrado\n",
    "\n"
   ]
  },
  {
   "cell_type": "code",
   "execution_count": 2,
   "metadata": {},
   "outputs": [],
   "source": [
    "import numpy as np"
   ]
  },
  {
   "cell_type": "code",
   "execution_count": 20,
   "metadata": {},
   "outputs": [
    {
     "data": {
      "text/plain": [
       "array([1, 2, 3, 4, 5, 6])"
      ]
     },
     "execution_count": 20,
     "metadata": {},
     "output_type": "execute_result"
    }
   ],
   "source": [
    "array_1 = np.array([1,2,3, 4,5,6])\n",
    "\n",
    "array_1"
   ]
  },
  {
   "cell_type": "code",
   "execution_count": 16,
   "metadata": {},
   "outputs": [
    {
     "data": {
      "text/plain": [
       "(2, 3)"
      ]
     },
     "execution_count": 16,
     "metadata": {},
     "output_type": "execute_result"
    }
   ],
   "source": [
    "array_1.shape\n",
    "\n"
   ]
  },
  {
   "cell_type": "code",
   "execution_count": 17,
   "metadata": {},
   "outputs": [
    {
     "data": {
      "text/plain": [
       "6"
      ]
     },
     "execution_count": 17,
     "metadata": {},
     "output_type": "execute_result"
    }
   ],
   "source": [
    "array_1.size"
   ]
  },
  {
   "cell_type": "code",
   "execution_count": 18,
   "metadata": {},
   "outputs": [
    {
     "data": {
      "text/plain": [
       "2"
      ]
     },
     "execution_count": 18,
     "metadata": {},
     "output_type": "execute_result"
    }
   ],
   "source": [
    "array_1.ndim"
   ]
  },
  {
   "cell_type": "code",
   "execution_count": 19,
   "metadata": {},
   "outputs": [
    {
     "data": {
      "text/plain": [
       "dtype('int64')"
      ]
     },
     "execution_count": 19,
     "metadata": {},
     "output_type": "execute_result"
    }
   ],
   "source": [
    "array_1.dtype"
   ]
  },
  {
   "cell_type": "code",
   "execution_count": 26,
   "metadata": {},
   "outputs": [
    {
     "data": {
      "text/plain": [
       "array([[0, 1, 2, 3, 4],\n",
       "       [5, 6, 7, 8, 9]])"
      ]
     },
     "execution_count": 26,
     "metadata": {},
     "output_type": "execute_result"
    }
   ],
   "source": [
    "np.arange(10).reshape(2,5)"
   ]
  },
  {
   "cell_type": "code",
   "execution_count": 46,
   "metadata": {},
   "outputs": [
    {
     "data": {
      "text/plain": [
       "array([[0, 0, 0],\n",
       "       [0, 0, 0]])"
      ]
     },
     "execution_count": 46,
     "metadata": {},
     "output_type": "execute_result"
    }
   ],
   "source": [
    "np.empty((2,3), dtype=\"int\")"
   ]
  },
  {
   "cell_type": "code",
   "execution_count": 47,
   "metadata": {},
   "outputs": [
    {
     "data": {
      "text/plain": [
       "array([[5.55891304e-02, 3.25149616e-01, 9.74203206e-01],\n",
       "       [1.07566552e-01, 6.57528465e-01, 2.86690966e-04]])"
      ]
     },
     "execution_count": 47,
     "metadata": {},
     "output_type": "execute_result"
    }
   ],
   "source": [
    "np.random.rand(2,3)"
   ]
  },
  {
   "cell_type": "code",
   "execution_count": 49,
   "metadata": {},
   "outputs": [
    {
     "data": {
      "text/plain": [
       "array([[0.59226812, 0.28447284, 0.90857679],\n",
       "       [0.56806937, 0.28301634, 0.16062568]])"
      ]
     },
     "execution_count": 49,
     "metadata": {},
     "output_type": "execute_result"
    }
   ],
   "source": [
    "np.random.random_sample((2,3))"
   ]
  },
  {
   "cell_type": "code",
   "execution_count": 50,
   "metadata": {},
   "outputs": [
    {
     "data": {
      "text/plain": [
       "array([[5, 6, 5],\n",
       "       [1, 7, 8]])"
      ]
     },
     "execution_count": 50,
     "metadata": {},
     "output_type": "execute_result"
    }
   ],
   "source": [
    "array_2 = np.random.randint(1,10, (2,3))\n",
    "array_2"
   ]
  },
  {
   "cell_type": "code",
   "execution_count": 54,
   "metadata": {},
   "outputs": [
    {
     "data": {
      "text/plain": [
       "array([5, 6, 7])"
      ]
     },
     "execution_count": 54,
     "metadata": {},
     "output_type": "execute_result"
    }
   ],
   "source": [
    "array_3 = np.array([5,6,7])\n",
    "array_3"
   ]
  },
  {
   "cell_type": "code",
   "execution_count": 57,
   "metadata": {},
   "outputs": [
    {
     "data": {
      "text/plain": [
       "array([[505, 506, 505],\n",
       "       [501, 507, 508]])"
      ]
     },
     "execution_count": 57,
     "metadata": {},
     "output_type": "execute_result"
    }
   ],
   "source": [
    "array_2 + 500"
   ]
  },
  {
   "cell_type": "code",
   "execution_count": 58,
   "metadata": {},
   "outputs": [
    {
     "data": {
      "text/plain": [
       "array([[[3, 8, 4, 6],\n",
       "        [7, 1, 7, 3],\n",
       "        [9, 2, 2, 8]],\n",
       "\n",
       "       [[1, 4, 3, 6],\n",
       "        [9, 2, 6, 3],\n",
       "        [7, 7, 5, 7]]])"
      ]
     },
     "execution_count": 58,
     "metadata": {},
     "output_type": "execute_result"
    }
   ],
   "source": [
    "array_4 = np.random.randint(1,10, (2,3,4))\n",
    "\n",
    "array_4"
   ]
  },
  {
   "cell_type": "code",
   "execution_count": 61,
   "metadata": {},
   "outputs": [
    {
     "data": {
      "text/plain": [
       "3"
      ]
     },
     "execution_count": 61,
     "metadata": {},
     "output_type": "execute_result"
    }
   ],
   "source": [
    "array_4[0][0][0]"
   ]
  },
  {
   "cell_type": "code",
   "execution_count": 66,
   "metadata": {},
   "outputs": [
    {
     "name": "stdout",
     "output_type": "stream",
     "text": [
      "3\n",
      "-------------\n",
      "8\n",
      "-------------\n",
      "4\n",
      "-------------\n",
      "6\n",
      "-------------\n",
      "7\n",
      "-------------\n",
      "1\n",
      "-------------\n",
      "7\n",
      "-------------\n",
      "3\n",
      "-------------\n",
      "9\n",
      "-------------\n",
      "2\n",
      "-------------\n",
      "2\n",
      "-------------\n",
      "8\n",
      "-------------\n",
      "1\n",
      "-------------\n",
      "4\n",
      "-------------\n",
      "3\n",
      "-------------\n",
      "6\n",
      "-------------\n",
      "9\n",
      "-------------\n",
      "2\n",
      "-------------\n",
      "6\n",
      "-------------\n",
      "3\n",
      "-------------\n",
      "7\n",
      "-------------\n",
      "7\n",
      "-------------\n",
      "5\n",
      "-------------\n",
      "7\n",
      "-------------\n"
     ]
    }
   ],
   "source": [
    "for matriz in array_4:\n",
    "    for fila in matriz:\n",
    "        for col in fila:\n",
    "\n",
    "\n",
    "\n",
    "            print(col)\n",
    "            print(\"-------------\")"
   ]
  },
  {
   "cell_type": "code",
   "execution_count": 67,
   "metadata": {},
   "outputs": [
    {
     "data": {
      "text/plain": [
       "array([[[3, 8, 4, 6],\n",
       "        [7, 1, 7, 3],\n",
       "        [9, 2, 2, 8]],\n",
       "\n",
       "       [[1, 4, 3, 6],\n",
       "        [9, 2, 6, 3],\n",
       "        [7, 7, 5, 7]]])"
      ]
     },
     "execution_count": 67,
     "metadata": {},
     "output_type": "execute_result"
    }
   ],
   "source": [
    "array_4"
   ]
  },
  {
   "cell_type": "code",
   "execution_count": 69,
   "metadata": {},
   "outputs": [],
   "source": [
    "masc = array_4 > 4"
   ]
  },
  {
   "cell_type": "code",
   "execution_count": 71,
   "metadata": {},
   "outputs": [
    {
     "data": {
      "text/plain": [
       "array([[[False,  True, False,  True],\n",
       "        [ True, False,  True, False],\n",
       "        [ True, False, False,  True]],\n",
       "\n",
       "       [[False, False, False,  True],\n",
       "        [ True, False,  True, False],\n",
       "        [ True,  True,  True,  True]]])"
      ]
     },
     "execution_count": 71,
     "metadata": {},
     "output_type": "execute_result"
    }
   ],
   "source": [
    "masc"
   ]
  },
  {
   "cell_type": "code",
   "execution_count": 70,
   "metadata": {},
   "outputs": [
    {
     "data": {
      "text/plain": [
       "array([8, 6, 7, 7, 9, 8, 6, 9, 6, 7, 7, 5, 7])"
      ]
     },
     "execution_count": 70,
     "metadata": {},
     "output_type": "execute_result"
    }
   ],
   "source": [
    "array_4[masc]"
   ]
  },
  {
   "cell_type": "code",
   "execution_count": 74,
   "metadata": {},
   "outputs": [
    {
     "data": {
      "text/plain": [
       "array([8, 6, 7, 7, 8, 6, 6, 7, 7, 5, 7])"
      ]
     },
     "execution_count": 74,
     "metadata": {},
     "output_type": "execute_result"
    }
   ],
   "source": [
    "array_4[(array_4 > 4) & (array_4 < 9)]"
   ]
  },
  {
   "cell_type": "code",
   "execution_count": 93,
   "metadata": {},
   "outputs": [
    {
     "data": {
      "text/plain": [
       "array([[[0, 8, 0, 6],\n",
       "        [7, 0, 7, 0],\n",
       "        [9, 0, 0, 8]],\n",
       "\n",
       "       [[0, 0, 0, 6],\n",
       "        [9, 0, 6, 0],\n",
       "        [7, 7, 5, 7]]])"
      ]
     },
     "execution_count": 93,
     "metadata": {},
     "output_type": "execute_result"
    }
   ],
   "source": [
    "np.where(array_4 > 4, array_4, 0)"
   ]
  },
  {
   "cell_type": "code",
   "execution_count": 95,
   "metadata": {},
   "outputs": [
    {
     "data": {
      "text/plain": [
       "array([[[0, 8, 0, 6],\n",
       "        [7, 0, 7, 0],\n",
       "        [0, 0, 0, 8]],\n",
       "\n",
       "       [[0, 0, 0, 6],\n",
       "        [0, 0, 6, 0],\n",
       "        [7, 7, 5, 7]]])"
      ]
     },
     "execution_count": 95,
     "metadata": {},
     "output_type": "execute_result"
    }
   ],
   "source": [
    "array_5 = np.where((array_4 > 4) & (array_4 < 9), array_4, 0)\n",
    "\n",
    "array_5"
   ]
  },
  {
   "cell_type": "code",
   "execution_count": 84,
   "metadata": {},
   "outputs": [
    {
     "data": {
      "text/plain": [
       "array([[[3, 8, 4, 6],\n",
       "        [7, 1, 7, 3],\n",
       "        [9, 2, 2, 8]],\n",
       "\n",
       "       [[1, 4, 3, 6],\n",
       "        [9, 2, 6, 3],\n",
       "        [7, 7, 5, 7]]])"
      ]
     },
     "execution_count": 84,
     "metadata": {},
     "output_type": "execute_result"
    }
   ],
   "source": [
    "array_4"
   ]
  },
  {
   "cell_type": "code",
   "execution_count": 89,
   "metadata": {},
   "outputs": [],
   "source": [
    "array_str = np.where(array_4 < 4,\"A\",  np.where(array_4 < 9, \"B\", \"C\"))"
   ]
  },
  {
   "cell_type": "code",
   "execution_count": 90,
   "metadata": {},
   "outputs": [
    {
     "data": {
      "text/plain": [
       "array([[['A', 'B', 'B', 'B'],\n",
       "        ['B', 'A', 'B', 'A'],\n",
       "        ['C', 'A', 'A', 'B']],\n",
       "\n",
       "       [['A', 'B', 'A', 'B'],\n",
       "        ['C', 'A', 'B', 'A'],\n",
       "        ['B', 'B', 'B', 'B']]], dtype='<U1')"
      ]
     },
     "execution_count": 90,
     "metadata": {},
     "output_type": "execute_result"
    }
   ],
   "source": [
    "array_str"
   ]
  }
 ],
 "metadata": {
  "kernelspec": {
   "display_name": "base",
   "language": "python",
   "name": "python3"
  },
  "language_info": {
   "codemirror_mode": {
    "name": "ipython",
    "version": 3
   },
   "file_extension": ".py",
   "mimetype": "text/x-python",
   "name": "python",
   "nbconvert_exporter": "python",
   "pygments_lexer": "ipython3",
   "version": "3.9.12"
  }
 },
 "nbformat": 4,
 "nbformat_minor": 2
}
